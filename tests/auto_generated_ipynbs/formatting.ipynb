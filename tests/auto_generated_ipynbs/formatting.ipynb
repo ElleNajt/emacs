{
 "cells": [
  {
   "cell_type": "markdown",
   "metadata": {},
   "source": [
    "# Timer formatting\n",
    "\n",
    "Rounds by default, and shows by default:"
   ],
   "id": "9a994443-dae6-47a4-99e5-4fa92fe7babe"
  },
  {
   "cell_type": "code",
   "execution_count": null,
   "metadata": {
    "exports": "both"
   },
   "outputs": [],
   "source": [
    "print(1)\n"
   ],
   "id": "ec46da08-6fd9-43aa-8b70-4f4ce52df972"
  },
  {
   "cell_type": "markdown",
   "metadata": {},
   "source": [
    "1 Cell Timer: 0:00:00\n",
    "\n",
    "Turn off timer-show to hide it"
   ],
   "id": "406db0ab-5fea-495b-8b62-97c7bc041770"
  },
  {
   "cell_type": "code",
   "execution_count": null,
   "metadata": {
    "exports": "both",
    "timer-show": "no"
   },
   "outputs": [],
   "source": [
    "print(1)\n"
   ],
   "id": "22017b65-6c78-43ec-b01e-a95bf7f9b126"
  },
  {
   "cell_type": "markdown",
   "metadata": {},
   "source": [
    "1\n",
    "\n",
    "Set :timer-rounded to no to get the full timer. (Also modifying the\n",
    "timer string here so that my expect tests will skip it.)"
   ],
   "id": "a8da58f4-0f62-4931-8e19-9cc5a1913c5b"
  },
  {
   "cell_type": "code",
   "execution_count": null,
   "metadata": {
    "exports": "both",
    "timer-rounded": "no",
    "timer-string": "%expect_skip Cell Timer:"
   },
   "outputs": [],
   "source": [
    "print(1)\n"
   ],
   "id": "1a7825e9-bf45-48cc-aeba-72289abbf3f7"
  },
  {
   "cell_type": "markdown",
   "metadata": {},
   "source": [
    "1 %expect<sub>skip</sub> Cell Timer: 0:00:00.002674\n",
    "\n",
    "# Table formatting\n",
    "\n",
    "Dataframes are printed as org tables"
   ],
   "id": "90564c77-5518-4419-9b45-266421b37104"
  },
  {
   "cell_type": "code",
   "execution_count": null,
   "metadata": {
    "exports": "both",
    "results": "drawer"
   },
   "outputs": [],
   "source": [
    "import pandas as pd\n",
    "data = {\n",
    "'Name': ['Joe', 'Eva', 'Charlie', 'David', 'Eva'],\n",
    "'Age': [44, 32, 33,33, 22],\n",
    "'City': ['New York', 'San Francisco', 'Boston', 'Paris', 'Tokyo'],\n",
    "'Score': [92.5, 88.0, 95.2, 78.9, 90.11111]}\n",
    "df = pd.DataFrame(data)\n",
    "print(df)\n"
   ],
   "id": "61293cb5-d2a4-4feb-bd09-680d3028b77a"
  },
  {
   "cell_type": "markdown",
   "metadata": {},
   "source": [
    "| idx | Name    | Age | City          | Score    |\n",
    "|-----|---------|-----|---------------|----------|\n",
    "| 0   | Joe     | 44  | New York      | 92.5     |\n",
    "| 1   | Eva     | 32  | San Francisco | 88.0     |\n",
    "| 2   | Charlie | 33  | Boston        | 95.2     |\n",
    "| 3   | David   | 33  | Paris         | 78.9     |\n",
    "| 4   | Eva     | 22  | Tokyo         | 90.11111 |\n",
    "\n",
    "To not print the index as idx, set something else as to be the index."
   ],
   "id": "245e0561-a8d8-44f9-ba03-ce64eb8d4a05"
  },
  {
   "cell_type": "code",
   "execution_count": null,
   "metadata": {
    "exports": "both"
   },
   "outputs": [],
   "source": [
    "print(df.set_index(\"Name\"))\n"
   ],
   "id": "a2c53453-abfd-4e74-8cc0-cf7539a63a6c"
  },
  {
   "cell_type": "markdown",
   "metadata": {},
   "source": [
    "| Name    | Age | City          | Score    |\n",
    "|---------|-----|---------------|----------|\n",
    "| Joe     | 44  | New York      | 92.5     |\n",
    "| Eva     | 32  | San Francisco | 88.0     |\n",
    "| Charlie | 33  | Boston        | 95.2     |\n",
    "| David   | 33  | Paris         | 78.9     |\n",
    "| Eva     | 22  | Tokyo         | 90.11111 |\n",
    "\n",
    "This respects various pandas options:\n",
    "\n",
    "### Float formatting"
   ],
   "id": "a67c527e-1070-4058-9eb1-28200cb581f4"
  },
  {
   "cell_type": "code",
   "execution_count": null,
   "metadata": {
    "exports": "both"
   },
   "outputs": [],
   "source": [
    "pd.options.display.float_format = '{:.1f}'.format\n",
    "print(df.set_index(\"Name\"))\n"
   ],
   "id": "2b811bea-c60f-49aa-b030-d1f6fddcca72"
  },
  {
   "cell_type": "markdown",
   "metadata": {},
   "source": [
    "| Name    | Age | City          | Score |\n",
    "|---------|-----|---------------|-------|\n",
    "| Joe     | 44  | New York      | 92.5  |\n",
    "| Eva     | 32  | San Francisco | 88.0  |\n",
    "| Charlie | 33  | Boston        | 95.2  |\n",
    "| David   | 33  | Paris         | 78.9  |\n",
    "| Eva     | 22  | Tokyo         | 90.1  |\n",
    "\n",
    "### Max rows"
   ],
   "id": "f6e42042-d0d7-4e37-acdb-dcbe2ec03ef7"
  },
  {
   "cell_type": "code",
   "execution_count": null,
   "metadata": {
    "exports": "both"
   },
   "outputs": [],
   "source": [
    "pd.options.display.max_rows = 10\n",
    "long_df = pd.DataFrame({'A': range(200)})\n",
    "print(long_df)\n"
   ],
   "id": "91ea96e0-0cb4-4161-ac92-b9f06c7f940f"
  },
  {
   "cell_type": "markdown",
   "metadata": {},
   "source": [
    "| idx | A   |\n",
    "|-----|-----|\n",
    "| 0   | 0   |\n",
    "| 1   | 1   |\n",
    "| 2   | 2   |\n",
    "| 3   | 3   |\n",
    "| 4   | 4   |\n",
    "| 5   | 5   |\n",
    "| 6   | 6   |\n",
    "| 7   | 7   |\n",
    "| 8   | 8   |\n",
    "| 9   | 9   |\n",
    "\n",
    "## <span class=\"todo TODO\">TODO</span> Problem – hangs when printing large dataframes.\n",
    "\n",
    "print<sub>orgdf</sub> sets max<sub>rows</sub> to be 20 by default to\n",
    "avoid this issue."
   ],
   "id": "5479a7f2-6282-422c-9532-f8b4553afa73"
  },
  {
   "cell_type": "code",
   "execution_count": null,
   "metadata": {
    "exports": "both",
    "tables-auto-align": "no"
   },
   "outputs": [],
   "source": [
    "import pandas as pd\n",
    "long_df = pd.DataFrame({'A': range(200)})\n",
    "print(long_df)\n"
   ],
   "id": "7e4b3945-ad4f-40e8-8bfd-c56af0d5fec8"
  },
  {
   "cell_type": "markdown",
   "metadata": {},
   "source": [
    "| idx | A   |\n",
    "|-----|-----|\n",
    "| 0   | 0   |\n",
    "| 1   | 1   |\n",
    "| 2   | 2   |\n",
    "| 3   | 3   |\n",
    "| 4   | 4   |\n",
    "| 5   | 5   |\n",
    "| 6   | 6   |\n",
    "| 7   | 7   |\n",
    "| 8   | 8   |\n",
    "| 9   | 9   |\n",
    "| 10  | 10  |\n",
    "| 11  | 11  |\n",
    "| 12  | 12  |\n",
    "| 13  | 13  |\n",
    "| 14  | 14  |\n",
    "| 15  | 15  |\n",
    "| 16  | 16  |\n",
    "| 17  | 17  |\n",
    "| 18  | 18  |\n",
    "| 19  | 19  |\n",
    "\n",
    "If we make the max<sub>rows</sub> even modestly large, we run into it,\n",
    "depending on computing resources."
   ],
   "id": "5841b80e-13c5-4f0d-9b91-4fe4e7332ee2"
  },
  {
   "cell_type": "code",
   "execution_count": null,
   "metadata": {
    "exports": "both",
    "tables-auto-align": "no"
   },
   "outputs": [],
   "source": [
    "pd.options.display.max_rows = 60\n",
    "long_df = pd.DataFrame({'A': range(60)})\n",
    "print(long_df)\n"
   ],
   "id": "7d68fab8-795b-41cc-ade8-e21d6f646923"
  },
  {
   "cell_type": "markdown",
   "metadata": {},
   "source": [
    "| idx | A   |\n",
    "|-----|-----|\n",
    "| 0   | 0   |\n",
    "| 1   | 1   |\n",
    "| 2   | 2   |\n",
    "| 3   | 3   |\n",
    "| 4   | 4   |\n",
    "| 5   | 5   |\n",
    "| 6   | 6   |\n",
    "| 7   | 7   |\n",
    "| 8   | 8   |\n",
    "| 9   | 9   |\n",
    "| 10  | 10  |\n",
    "| 11  | 11  |\n",
    "| 12  | 12  |\n",
    "| 13  | 13  |\n",
    "| 14  | 14  |\n",
    "| 15  | 15  |\n",
    "| 16  | 16  |\n",
    "| 17  | 17  |\n",
    "| 18  | 18  |\n",
    "| 19  | 19  |\n",
    "| 20  | 20  |\n",
    "| 21  | 21  |\n",
    "| 22  | 22  |\n",
    "| 23  | 23  |\n",
    "| 24  | 24  |\n",
    "| 25  | 25  |\n",
    "| 26  | 26  |\n",
    "| 27  | 27  |\n",
    "| 28  | 28  |\n",
    "| 29  | 29  |\n",
    "| 30  | 30  |\n",
    "| 31  | 31  |\n",
    "| 32  | 32  |\n",
    "| 33  | 33  |\n",
    "| 34  | 34  |\n",
    "| 35  | 35  |\n",
    "| 36  | 36  |\n",
    "| 37  | 37  |\n",
    "| 38  | 38  |\n",
    "| 39  | 39  |\n",
    "| 40  | 40  |\n",
    "| 41  | 41  |\n",
    "| 42  | 42  |\n",
    "| 43  | 43  |\n",
    "| 44  | 44  |\n",
    "| 45  | 45  |\n",
    "| 46  | 46  |\n",
    "| 47  | 47  |\n",
    "| 48  | 48  |\n",
    "| 49  | 49  |\n",
    "| 50  | 50  |\n",
    "| 51  | 51  |\n",
    "| 52  | 52  |\n",
    "| 53  | 53  |\n",
    "| 54  | 54  |\n",
    "| 55  | 55  |\n",
    "| 56  | 56  |\n",
    "| 57  | 57  |\n",
    "| 58  | 58  |\n",
    "| 59  | 59  |\n",
    "\n",
    "## Printing multiple dataframes:"
   ],
   "id": "b1de7700-309d-4656-8bbe-73d2b4a1baf4"
  },
  {
   "cell_type": "code",
   "execution_count": null,
   "metadata": {
    "exports": "both"
   },
   "outputs": [],
   "source": [
    "print(df)\n",
    "print(\"Space between dataframes\")\n",
    "print(long_df)\n"
   ],
   "id": "45226636-3552-4197-9ca4-46be7e8a5b25"
  },
  {
   "cell_type": "markdown",
   "metadata": {},
   "source": [
    "| idx | Name    | Age | City          | Score |\n",
    "|-----|---------|-----|---------------|-------|\n",
    "| 0   | Joe     | 44  | New York      | 92.5  |\n",
    "| 1   | Eva     | 32  | San Francisco | 88.0  |\n",
    "| 2   | Charlie | 33  | Boston        | 95.2  |\n",
    "| 3   | David   | 33  | Paris         | 78.9  |\n",
    "| 4   | Eva     | 22  | Tokyo         | 90.1  |\n",
    "\n",
    "Space between dataframes\n",
    "\n",
    "| idx | A   |\n",
    "|-----|-----|\n",
    "| 0   | 0   |\n",
    "| 1   | 1   |\n",
    "| 2   | 2   |\n",
    "| 3   | 3   |\n",
    "| 4   | 4   |\n",
    "| 5   | 5   |\n",
    "| 6   | 6   |\n",
    "| 7   | 7   |\n",
    "| 8   | 8   |\n",
    "| 9   | 9   |\n",
    "| 10  | 10  |\n",
    "| 11  | 11  |\n",
    "| 12  | 12  |\n",
    "| 13  | 13  |\n",
    "| 14  | 14  |\n",
    "| 15  | 15  |\n",
    "| 16  | 16  |\n",
    "| 17  | 17  |\n",
    "| 18  | 18  |\n",
    "| 19  | 19  |\n",
    "\n",
    "In general space between dataframes requires ones below to be aligned. I\n",
    "have advise ( adjust-org-babel-results ) that does this, but it can be\n",
    "slow if there are many tables in the org file, so it can be disabled\n",
    "like this."
   ],
   "id": "b16ba2b1-f20c-45da-8a7a-8e82a326bf93"
  },
  {
   "cell_type": "code",
   "execution_count": null,
   "metadata": {
    "exports": "both",
    "tables-auto-align": "no"
   },
   "outputs": [],
   "source": [
    "print(df)\n",
    "print(\"Space between dataframes\")\n",
    "print(long_df)\n"
   ],
   "id": "2ea613dc-3649-4686-950e-25655ee20940"
  },
  {
   "cell_type": "markdown",
   "metadata": {},
   "source": [
    "| idx | Name    | Age | City          | Score |\n",
    "|-----|---------|-----|---------------|-------|\n",
    "| 0   | Joe     | 44  | New York      | 92.5  |\n",
    "| 1   | Eva     | 32  | San Francisco | 88.0  |\n",
    "| 2   | Charlie | 33  | Boston        | 95.2  |\n",
    "| 3   | David   | 33  | Paris         | 78.9  |\n",
    "| 4   | Eva     | 22  | Tokyo         | 90.1  |\n",
    "\n",
    "Space between dataframes\n",
    "\n",
    "| idx | A   |\n",
    "|-----|-----|\n",
    "| 0   | 0   |\n",
    "| 1   | 1   |\n",
    "| 2   | 2   |\n",
    "| 3   | 3   |\n",
    "| 4   | 4   |\n",
    "| 5   | 5   |\n",
    "| 6   | 6   |\n",
    "| 7   | 7   |\n",
    "| 8   | 8   |\n",
    "| 9   | 9   |\n",
    "| 10  | 10  |\n",
    "| 11  | 11  |\n",
    "| 12  | 12  |\n",
    "| 13  | 13  |\n",
    "| 14  | 14  |\n",
    "| 15  | 15  |\n",
    "| 16  | 16  |\n",
    "| 17  | 17  |\n",
    "| 18  | 18  |\n",
    "| 19  | 19  |\n",
    "\n",
    "# Images\n",
    "\n",
    "pymockbabel mocks out python plotting to allow plots to be interspersed\n",
    "with printing, and allows multiple to be made. :)"
   ],
   "id": "0f36c084-9158-40ed-955f-f5eef653e3db"
  },
  {
   "cell_type": "code",
   "execution_count": null,
   "metadata": {
    "exports": "both",
    "results": "drawer"
   },
   "outputs": [],
   "source": [
    "import pandas as pd\n",
    "import matplotlib.pyplot as plt\n",
    "print(\"look!\")\n",
    "df = pd.DataFrame({\"x\": [1, 2, 3, 4, 5,6,7,], \"y\": [10, 11, 12, 13, 14,15,16]})\n",
    "print(df)\n",
    "df.plot(x=\"x\", y=\"y\", kind=\"line\")\n",
    "plt.show()\n",
    "print(\"tada!\")\n"
   ],
   "id": "33a7cb51-dabc-4c0f-a009-4174179acf55"
  },
  {
   "cell_type": "markdown",
   "metadata": {},
   "source": [
    "look!\n",
    "\n",
    "| idx | x   | y   |\n",
    "|-----|-----|-----|\n",
    "| 0   | 1   | 10  |\n",
    "| 1   | 2   | 11  |\n",
    "| 2   | 3   | 12  |\n",
    "| 3   | 4   | 13  |\n",
    "| 4   | 5   | 14  |\n",
    "| 5   | 6   | 15  |\n",
    "| 6   | 7   | 16  |\n",
    "\n",
    "![](attachment:plots/formatting/plot_20240921_220318_851403.png) tada!\n",
    "\n",
    "# <span class=\"todo TODO\">TODO</span> Make : Alerts on finishing\n",
    "\n",
    "SCHEDULED: \\<2024-09-21 Sat\\>\n",
    "\n",
    "When this finishes, it alerts you in an emacs minibuffer, with a link\n",
    "back."
   ],
   "attachments": {
    "plots/formatting/plot_20240921_220318_851403.png": {
     "image/png": "[encoded data removed]"
    }
   },
   "id": "a8527083-652d-49e4-813b-d0a9e19cd72b"
  },
  {
   "cell_type": "code",
   "execution_count": null,
   "metadata": {
    "alert-finish": "yes",
    "exports": "both"
   },
   "outputs": [],
   "source": [
    "import time\n",
    "print(\"waiting\")\n",
    "time.sleep(2)\n",
    "print(\"finished\")\n"
   ],
   "id": "65624b58-bc00-4aab-9f05-09daf7181518"
  },
  {
   "cell_type": "markdown",
   "metadata": {},
   "source": [
    "waiting finished"
   ],
   "id": "cd8405c0-83ef-4d91-800e-e0092b79ff1a"
  },
  {
   "cell_type": "code",
   "execution_count": null,
   "metadata": {
    "exports": "both"
   },
   "outputs": [],
   "source": [
    "import time\n",
    "print(\"waiting\")\n",
    "time.sleep(1)\n",
    "print(\"finished\")\n"
   ],
   "id": "da7c6e8e-f2be-430b-bec4-eab504fd3815"
  },
  {
   "cell_type": "markdown",
   "metadata": {},
   "source": [
    "waiting finished"
   ],
   "id": "2e26a026-ee52-4909-8b0d-a1f5c7e252f4"
  }
 ],
 "nbformat": 4,
 "nbformat_minor": 5,
 "metadata": {}
}
