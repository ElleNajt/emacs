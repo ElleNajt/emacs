{
 "cells": [
  {
   "cell_type": "markdown",
   "metadata": {},
   "source": [
    "``` bash\n",
    "date\n",
    "```\n",
    "\n",
    "``` elisp\n",
    "(message \"hi\")\n",
    "```"
   ],
   "id": "cd7a18aa-6a8e-4c51-90b7-eb34fbbd496a"
  }
 ],
 "nbformat": 4,
 "nbformat_minor": 5,
 "metadata": {}
}
