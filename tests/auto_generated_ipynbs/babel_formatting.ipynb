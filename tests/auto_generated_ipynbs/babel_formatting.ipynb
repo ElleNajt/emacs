{
 "cells": [
  {
   "cell_type": "markdown",
   "metadata": {},
   "source": [
    "\\*"
   ],
   "id": "a0f97dd9-84f4-48a3-b92c-2000097e435f"
  }
 ],
 "nbformat": 4,
 "nbformat_minor": 5,
 "metadata": {}
}
