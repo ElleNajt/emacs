{
 "cells": [
  {
   "cell_type": "markdown",
   "metadata": {},
   "source": [
    "# Notebook"
   ],
   "id": "9e694d26-99cb-4499-ad04-6550d121e143"
  },
  {
   "cell_type": "code",
   "execution_count": null,
   "metadata": {
    "exports": "both"
   },
   "outputs": [],
   "source": [
    "import pandas as pd\n",
    "import seaborn as sns\n",
    "import time\n",
    "\n",
    "print(\n",
    "    1,\n",
    "    1,\n",
    "    1,\n",
    ")\n",
    "print(1)\n"
   ],
   "id": "1ab77062-bbbd-47ee-9773-3f51327f2dea"
  }
 ],
 "nbformat": 4,
 "nbformat_minor": 5,
 "metadata": {}
}
