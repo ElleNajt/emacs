{
 "cells": [
  {
   "cell_type": "markdown",
   "metadata": {},
   "source": [
    "# Notebook"
   ],
   "id": "d1ac36d9-0b53-4504-b1c5-9d9a295660e0"
  },
  {
   "cell_type": "code",
   "execution_count": null,
   "metadata": {
    "exports": "both"
   },
   "outputs": [],
   "source": [
    "import pandas as pd\n",
    "import seaborn as sns\n",
    "print(1)\n"
   ],
   "id": "fe0999ed-bdb8-4c66-a6ac-75b56dbccb83"
  }
 ],
 "nbformat": 4,
 "nbformat_minor": 5,
 "metadata": {}
}
