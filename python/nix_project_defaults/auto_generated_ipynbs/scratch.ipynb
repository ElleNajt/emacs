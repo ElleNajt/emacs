{
 "cells": [
  {
   "cell_type": "markdown",
   "metadata": {},
   "source": [
    "# Notebook"
   ],
   "id": "d175b446-54dc-46ad-a1f2-a7d8e6ed03eb"
  },
  {
   "cell_type": "code",
   "execution_count": null,
   "metadata": {
    "exports": "both"
   },
   "outputs": [],
   "source": [
    "import pandas as pd\n",
    "import seaborn as sns\n",
    "print(1)\n"
   ],
   "id": "2fc18c7d-6d4f-4033-a9c1-a992062f81cc"
  }
 ],
 "nbformat": 4,
 "nbformat_minor": 5,
 "metadata": {}
}
