{
 "cells": [
  {
   "cell_type": "markdown",
   "metadata": {},
   "source": [
    "# Notebook"
   ],
   "id": "20b4ce90-4aa2-478c-b5da-e6c4bf80fb90"
  },
  {
   "cell_type": "code",
   "execution_count": null,
   "metadata": {
    "exports": "both"
   },
   "outputs": [],
   "source": [
    "import pandas as pd\n",
    "import seaborn as sns\n",
    "import time\n",
    "print(1)\n"
   ],
   "id": "07515b35-da71-40ba-bde9-0215b66139e0"
  }
 ],
 "nbformat": 4,
 "nbformat_minor": 5,
 "metadata": {}
}
