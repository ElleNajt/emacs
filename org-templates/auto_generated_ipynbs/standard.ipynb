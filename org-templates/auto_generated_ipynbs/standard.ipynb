{
 "cells": [
  {
   "cell_type": "markdown",
   "metadata": {},
   "source": [],
   "id": "aeb40935-eecf-439a-8d57-f8e69d2e91c0"
  }
 ],
 "nbformat": 4,
 "nbformat_minor": 5,
 "metadata": {}
}
